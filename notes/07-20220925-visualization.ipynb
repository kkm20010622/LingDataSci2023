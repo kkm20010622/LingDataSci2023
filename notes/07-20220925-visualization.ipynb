{
  "cells": [
    {
      "cell_type": "markdown",
      "metadata": {
        "id": "H1FUQaqFiXLM"
      },
      "source": [
        "# 2023-2 언어데이터과학 7강 (2023-09-25) 데이터 탐색 및 시각화"
      ]
    },
    {
      "cell_type": "markdown",
      "metadata": {},
      "source": [
        "## 0. 준비"
      ]
    },
    {
      "cell_type": "markdown",
      "metadata": {
        "id": "j3VIhTwsibc6"
      },
      "source": [
        "### 0.1. 데이터셋 내려받기\n",
        "\n",
        "아래의 파일은 가상의 음성 실험 데이터셋이다.\n",
        "\n",
        "총 300명의 실험참여자의 발화에서 어두 자음의 기본주파수(F0) 값을 추출했다고 가정하자."
      ]
    },
    {
      "cell_type": "code",
      "execution_count": 1,
      "metadata": {
        "colab": {
          "base_uri": "https://localhost:8080/"
        },
        "id": "eeXvG-GAism7",
        "outputId": "61a8c6d0-f584-41e4-a07e-8ec86830b856"
      },
      "outputs": [
        {
          "name": "stdout",
          "output_type": "stream",
          "text": [
            "--2023-09-25 14:21:26--  https://raw.githubusercontent.com/suparklingmin/LingDataSci2022/main/data/f0-data.csv\n",
            "Resolving raw.githubusercontent.com... 185.199.109.133, 185.199.110.133, 185.199.111.133, ...\n",
            "Connecting to raw.githubusercontent.com|185.199.109.133|:443... connected.\n",
            "HTTP request sent, awaiting response... 200 OK\n",
            "Length: 9706 (9.5K) [text/plain]\n",
            "Saving to: ‘all-f0.csv’\n",
            "\n",
            "all-f0.csv          100%[===================>]   9.48K  --.-KB/s    in 0.001s  \n",
            "\n",
            "2023-09-25 14:21:26 (9.69 MB/s) - ‘all-f0.csv’ saved [9706/9706]\n",
            "\n",
            "--2023-09-25 14:21:27--  https://raw.githubusercontent.com/suparklingmin/LingDataSci2022/main/data/female-f0-vot-data.csv\n",
            "Resolving raw.githubusercontent.com... 185.199.109.133, 185.199.110.133, 185.199.111.133, ...\n",
            "Connecting to raw.githubusercontent.com|185.199.109.133|:443... connected.\n",
            "HTTP request sent, awaiting response... 200 OK\n",
            "Length: 7947 (7.8K) [text/plain]\n",
            "Saving to: ‘women-f0-vot.csv’\n",
            "\n",
            "women-f0-vot.csv    100%[===================>]   7.76K  --.-KB/s    in 0s      \n",
            "\n",
            "2023-09-25 14:21:27 (18.8 MB/s) - ‘women-f0-vot.csv’ saved [7947/7947]\n",
            "\n"
          ]
        }
      ],
      "source": [
        "!wget https://raw.githubusercontent.com/suparklingmin/LingDataSci2022/main/data/f0-data.csv -O all-f0.csv\n",
        "!wget https://raw.githubusercontent.com/suparklingmin/LingDataSci2022/main/data/female-f0-vot-data.csv -O women-f0-vot.csv"
      ]
    },
    {
      "cell_type": "code",
      "execution_count": 2,
      "metadata": {},
      "outputs": [],
      "source": [
        "!mkdir ../data\n",
        "!mkdir ../data/vowel\n",
        "!mv all-f0.csv ../data/vowel/\n",
        "!mv women-f0-vot.csv ../data/vowel/"
      ]
    },
    {
      "cell_type": "markdown",
      "metadata": {
        "id": "gLbNFGmaifWI"
      },
      "source": [
        "### 0.2. 라이브러리 가져오기\n",
        "\n",
        "데이터를 데이터프레임 형식으로 처리하기 위해 `pandas`를 가져오고, 데이터를 시각화하는 도구로 `seaborn`을 가져온다."
      ]
    },
    {
      "cell_type": "code",
      "execution_count": null,
      "metadata": {},
      "outputs": [],
      "source": [
        "%pip install -U pandas\n",
        "%pip install -U seaborn"
      ]
    },
    {
      "cell_type": "code",
      "execution_count": 2,
      "metadata": {
        "id": "fHcMCTsAW9oe"
      },
      "outputs": [],
      "source": [
        "import pandas as pd\n",
        "import seaborn as sns"
      ]
    },
    {
      "cell_type": "markdown",
      "metadata": {
        "id": "oCZl5-qIjTM6"
      },
      "source": [
        "### 0.3. 데이터 살펴보기\n",
        "\n",
        "데이터 파일을 데이터프레임 객체로 읽어오자. CSV 파일이므로 `pandas.read_csv()` 함수를 사용하면 된다."
      ]
    },
    {
      "cell_type": "code",
      "execution_count": 5,
      "metadata": {
        "colab": {
          "base_uri": "https://localhost:8080/",
          "height": 455
        },
        "id": "WmmCPglXbdxo",
        "outputId": "3750da1b-b99b-4508-c75d-6a58935a5451"
      },
      "outputs": [
        {
          "data": {
            "text/html": [
              "<div>\n",
              "<style scoped>\n",
              "    .dataframe tbody tr th:only-of-type {\n",
              "        vertical-align: middle;\n",
              "    }\n",
              "\n",
              "    .dataframe tbody tr th {\n",
              "        vertical-align: top;\n",
              "    }\n",
              "\n",
              "    .dataframe thead th {\n",
              "        text-align: right;\n",
              "    }\n",
              "</style>\n",
              "<table border=\"1\" class=\"dataframe\">\n",
              "  <thead>\n",
              "    <tr style=\"text-align: right;\">\n",
              "      <th></th>\n",
              "      <th>age</th>\n",
              "      <th>gender</th>\n",
              "      <th>f0</th>\n",
              "    </tr>\n",
              "    <tr>\n",
              "      <th>sid</th>\n",
              "      <th></th>\n",
              "      <th></th>\n",
              "      <th></th>\n",
              "    </tr>\n",
              "  </thead>\n",
              "  <tbody>\n",
              "    <tr>\n",
              "      <th>S001</th>\n",
              "      <td>20s</td>\n",
              "      <td>Female</td>\n",
              "      <td>196.222840</td>\n",
              "    </tr>\n",
              "    <tr>\n",
              "      <th>S002</th>\n",
              "      <td>20s</td>\n",
              "      <td>Female</td>\n",
              "      <td>225.341426</td>\n",
              "    </tr>\n",
              "    <tr>\n",
              "      <th>S003</th>\n",
              "      <td>20s</td>\n",
              "      <td>Female</td>\n",
              "      <td>210.832895</td>\n",
              "    </tr>\n",
              "    <tr>\n",
              "      <th>S004</th>\n",
              "      <td>20s</td>\n",
              "      <td>Female</td>\n",
              "      <td>234.302582</td>\n",
              "    </tr>\n",
              "    <tr>\n",
              "      <th>S005</th>\n",
              "      <td>20s</td>\n",
              "      <td>Female</td>\n",
              "      <td>193.576549</td>\n",
              "    </tr>\n",
              "    <tr>\n",
              "      <th>...</th>\n",
              "      <td>...</td>\n",
              "      <td>...</td>\n",
              "      <td>...</td>\n",
              "    </tr>\n",
              "    <tr>\n",
              "      <th>S296</th>\n",
              "      <td>50s</td>\n",
              "      <td>Non-binary</td>\n",
              "      <td>89.051779</td>\n",
              "    </tr>\n",
              "    <tr>\n",
              "      <th>S297</th>\n",
              "      <td>50s</td>\n",
              "      <td>Non-binary</td>\n",
              "      <td>200.058200</td>\n",
              "    </tr>\n",
              "    <tr>\n",
              "      <th>S298</th>\n",
              "      <td>50s</td>\n",
              "      <td>Non-binary</td>\n",
              "      <td>157.783923</td>\n",
              "    </tr>\n",
              "    <tr>\n",
              "      <th>S299</th>\n",
              "      <td>50s</td>\n",
              "      <td>Non-binary</td>\n",
              "      <td>206.684950</td>\n",
              "    </tr>\n",
              "    <tr>\n",
              "      <th>S300</th>\n",
              "      <td>50s</td>\n",
              "      <td>Non-binary</td>\n",
              "      <td>167.942029</td>\n",
              "    </tr>\n",
              "  </tbody>\n",
              "</table>\n",
              "<p>300 rows × 3 columns</p>\n",
              "</div>"
            ],
            "text/plain": [
              "      age      gender          f0\n",
              "sid                              \n",
              "S001  20s      Female  196.222840\n",
              "S002  20s      Female  225.341426\n",
              "S003  20s      Female  210.832895\n",
              "S004  20s      Female  234.302582\n",
              "S005  20s      Female  193.576549\n",
              "...   ...         ...         ...\n",
              "S296  50s  Non-binary   89.051779\n",
              "S297  50s  Non-binary  200.058200\n",
              "S298  50s  Non-binary  157.783923\n",
              "S299  50s  Non-binary  206.684950\n",
              "S300  50s  Non-binary  167.942029\n",
              "\n",
              "[300 rows x 3 columns]"
            ]
          },
          "execution_count": 5,
          "metadata": {},
          "output_type": "execute_result"
        }
      ],
      "source": [
        "data_all = pd.read_csv('../data/vowel/all-f0.csv', index_col='sid')\n",
        "data_all"
      ]
    },
    {
      "cell_type": "markdown",
      "metadata": {
        "id": "Wm9dK0Mpzo32"
      },
      "source": [
        "데이터는 연령, 성별, F0 3개의 칼럼으로 이루어져 있다.\n",
        "\n",
        "먼저 범주형 변수인 연령과 성별의 분포를 요약한 결과를 살펴보자.\n",
        "\n",
        "+ **count**: 총 데이터 개수\n",
        "+ **unique**: 중복된 것을 제외한 개수\n",
        "+ **top**: 최빈값(가장 자주 나온 값)\n",
        "+ **freq**: 최빈값의 출현 빈도\n",
        "\n",
        "예를 들어 `age` 칼럼을 요약한 수치를 통해 연령대가 2개 그룹으로 이루어져 있으며 20대가 175명으로 다수를 차지한다는 것을 알 수 있다."
      ]
    },
    {
      "cell_type": "code",
      "execution_count": 6,
      "metadata": {
        "colab": {
          "base_uri": "https://localhost:8080/",
          "height": 175
        },
        "id": "WJDs23oJi1mW",
        "outputId": "92c90f9d-09b4-4540-c35f-159b7cd8b057"
      },
      "outputs": [
        {
          "data": {
            "text/html": [
              "<div>\n",
              "<style scoped>\n",
              "    .dataframe tbody tr th:only-of-type {\n",
              "        vertical-align: middle;\n",
              "    }\n",
              "\n",
              "    .dataframe tbody tr th {\n",
              "        vertical-align: top;\n",
              "    }\n",
              "\n",
              "    .dataframe thead th {\n",
              "        text-align: right;\n",
              "    }\n",
              "</style>\n",
              "<table border=\"1\" class=\"dataframe\">\n",
              "  <thead>\n",
              "    <tr style=\"text-align: right;\">\n",
              "      <th></th>\n",
              "      <th>age</th>\n",
              "      <th>gender</th>\n",
              "    </tr>\n",
              "  </thead>\n",
              "  <tbody>\n",
              "    <tr>\n",
              "      <th>count</th>\n",
              "      <td>300</td>\n",
              "      <td>300</td>\n",
              "    </tr>\n",
              "    <tr>\n",
              "      <th>unique</th>\n",
              "      <td>2</td>\n",
              "      <td>3</td>\n",
              "    </tr>\n",
              "    <tr>\n",
              "      <th>top</th>\n",
              "      <td>20s</td>\n",
              "      <td>Male</td>\n",
              "    </tr>\n",
              "    <tr>\n",
              "      <th>freq</th>\n",
              "      <td>175</td>\n",
              "      <td>139</td>\n",
              "    </tr>\n",
              "  </tbody>\n",
              "</table>\n",
              "</div>"
            ],
            "text/plain": [
              "        age gender\n",
              "count   300    300\n",
              "unique    2      3\n",
              "top     20s   Male\n",
              "freq    175    139"
            ]
          },
          "execution_count": 6,
          "metadata": {},
          "output_type": "execute_result"
        }
      ],
      "source": [
        "data_all[['age', 'gender']].describe()"
      ]
    },
    {
      "cell_type": "markdown",
      "metadata": {
        "id": "p2gRM_1U0fg5"
      },
      "source": [
        "다음으로 연속형 변수인 기본주파수 값의 분포를 요약한 결과를 살펴보자.\n",
        "\n",
        "+ **mean**: 평균값\n",
        "+ **std**: 표준편차\n",
        "+ **min**: 최솟값\n",
        "+ **25%**: Q1\n",
        "+ **50%**: 중앙값\n",
        "+ **75%**: Q3\n",
        "+ **max**: 최댓값"
      ]
    },
    {
      "cell_type": "code",
      "execution_count": 7,
      "metadata": {
        "colab": {
          "base_uri": "https://localhost:8080/",
          "height": 300
        },
        "id": "sBJFU_1LjL5c",
        "outputId": "87c0f580-a86f-4b8b-9e1e-7c0bf6f9072a"
      },
      "outputs": [
        {
          "data": {
            "text/html": [
              "<div>\n",
              "<style scoped>\n",
              "    .dataframe tbody tr th:only-of-type {\n",
              "        vertical-align: middle;\n",
              "    }\n",
              "\n",
              "    .dataframe tbody tr th {\n",
              "        vertical-align: top;\n",
              "    }\n",
              "\n",
              "    .dataframe thead th {\n",
              "        text-align: right;\n",
              "    }\n",
              "</style>\n",
              "<table border=\"1\" class=\"dataframe\">\n",
              "  <thead>\n",
              "    <tr style=\"text-align: right;\">\n",
              "      <th></th>\n",
              "      <th>f0</th>\n",
              "    </tr>\n",
              "  </thead>\n",
              "  <tbody>\n",
              "    <tr>\n",
              "      <th>count</th>\n",
              "      <td>300.000000</td>\n",
              "    </tr>\n",
              "    <tr>\n",
              "      <th>mean</th>\n",
              "      <td>156.019783</td>\n",
              "    </tr>\n",
              "    <tr>\n",
              "      <th>std</th>\n",
              "      <td>44.140611</td>\n",
              "    </tr>\n",
              "    <tr>\n",
              "      <th>min</th>\n",
              "      <td>65.722365</td>\n",
              "    </tr>\n",
              "    <tr>\n",
              "      <th>25%</th>\n",
              "      <td>116.326951</td>\n",
              "    </tr>\n",
              "    <tr>\n",
              "      <th>50%</th>\n",
              "      <td>151.777664</td>\n",
              "    </tr>\n",
              "    <tr>\n",
              "      <th>75%</th>\n",
              "      <td>197.472624</td>\n",
              "    </tr>\n",
              "    <tr>\n",
              "      <th>max</th>\n",
              "      <td>258.275386</td>\n",
              "    </tr>\n",
              "  </tbody>\n",
              "</table>\n",
              "</div>"
            ],
            "text/plain": [
              "               f0\n",
              "count  300.000000\n",
              "mean   156.019783\n",
              "std     44.140611\n",
              "min     65.722365\n",
              "25%    116.326951\n",
              "50%    151.777664\n",
              "75%    197.472624\n",
              "max    258.275386"
            ]
          },
          "execution_count": 7,
          "metadata": {},
          "output_type": "execute_result"
        }
      ],
      "source": [
        "data_all[['f0']].describe()"
      ]
    },
    {
      "cell_type": "markdown",
      "metadata": {
        "id": "uWO70Ce01ADW"
      },
      "source": [
        "기본주파수 값의 기술통계량을 연령대와 성별로 각각 구해 보면 집단에 따라 차이가 나는 것을 확인할 수 있다."
      ]
    },
    {
      "cell_type": "code",
      "execution_count": 8,
      "metadata": {
        "colab": {
          "base_uri": "https://localhost:8080/",
          "height": 300
        },
        "id": "g3A9oAzInrjo",
        "outputId": "1748f9db-3f78-46b4-a747-f2db0fc2c0be"
      },
      "outputs": [
        {
          "data": {
            "text/html": [
              "<div>\n",
              "<style scoped>\n",
              "    .dataframe tbody tr th:only-of-type {\n",
              "        vertical-align: middle;\n",
              "    }\n",
              "\n",
              "    .dataframe tbody tr th {\n",
              "        vertical-align: top;\n",
              "    }\n",
              "\n",
              "    .dataframe thead tr th {\n",
              "        text-align: left;\n",
              "    }\n",
              "\n",
              "    .dataframe thead tr:last-of-type th {\n",
              "        text-align: right;\n",
              "    }\n",
              "</style>\n",
              "<table border=\"1\" class=\"dataframe\">\n",
              "  <thead>\n",
              "    <tr>\n",
              "      <th></th>\n",
              "      <th></th>\n",
              "      <th colspan=\"8\" halign=\"left\">f0</th>\n",
              "    </tr>\n",
              "    <tr>\n",
              "      <th></th>\n",
              "      <th></th>\n",
              "      <th>count</th>\n",
              "      <th>mean</th>\n",
              "      <th>std</th>\n",
              "      <th>min</th>\n",
              "      <th>25%</th>\n",
              "      <th>50%</th>\n",
              "      <th>75%</th>\n",
              "      <th>max</th>\n",
              "    </tr>\n",
              "    <tr>\n",
              "      <th>age</th>\n",
              "      <th>gender</th>\n",
              "      <th></th>\n",
              "      <th></th>\n",
              "      <th></th>\n",
              "      <th></th>\n",
              "      <th></th>\n",
              "      <th></th>\n",
              "      <th></th>\n",
              "      <th></th>\n",
              "    </tr>\n",
              "  </thead>\n",
              "  <tbody>\n",
              "    <tr>\n",
              "      <th rowspan=\"3\" valign=\"top\">20s</th>\n",
              "      <th>Female</th>\n",
              "      <td>82.0</td>\n",
              "      <td>198.042158</td>\n",
              "      <td>15.742888</td>\n",
              "      <td>167.012093</td>\n",
              "      <td>187.434224</td>\n",
              "      <td>199.025335</td>\n",
              "      <td>208.057627</td>\n",
              "      <td>234.302582</td>\n",
              "    </tr>\n",
              "    <tr>\n",
              "      <th>Male</th>\n",
              "      <td>79.0</td>\n",
              "      <td>119.056942</td>\n",
              "      <td>20.922270</td>\n",
              "      <td>75.803658</td>\n",
              "      <td>105.556898</td>\n",
              "      <td>117.078656</td>\n",
              "      <td>134.012374</td>\n",
              "      <td>166.821085</td>\n",
              "    </tr>\n",
              "    <tr>\n",
              "      <th>Non-binary</th>\n",
              "      <td>14.0</td>\n",
              "      <td>125.516416</td>\n",
              "      <td>27.000588</td>\n",
              "      <td>91.312616</td>\n",
              "      <td>107.196505</td>\n",
              "      <td>122.680159</td>\n",
              "      <td>133.401786</td>\n",
              "      <td>184.717860</td>\n",
              "    </tr>\n",
              "    <tr>\n",
              "      <th rowspan=\"3\" valign=\"top\">50s</th>\n",
              "      <th>Female</th>\n",
              "      <td>54.0</td>\n",
              "      <td>199.595345</td>\n",
              "      <td>20.794155</td>\n",
              "      <td>164.531714</td>\n",
              "      <td>187.364081</td>\n",
              "      <td>199.935098</td>\n",
              "      <td>210.235432</td>\n",
              "      <td>258.275386</td>\n",
              "    </tr>\n",
              "    <tr>\n",
              "      <th>Male</th>\n",
              "      <td>60.0</td>\n",
              "      <td>117.028539</td>\n",
              "      <td>17.439486</td>\n",
              "      <td>65.722365</td>\n",
              "      <td>105.980267</td>\n",
              "      <td>115.538488</td>\n",
              "      <td>128.634737</td>\n",
              "      <td>153.608504</td>\n",
              "    </tr>\n",
              "    <tr>\n",
              "      <th>Non-binary</th>\n",
              "      <td>11.0</td>\n",
              "      <td>145.808069</td>\n",
              "      <td>41.649919</td>\n",
              "      <td>80.448053</td>\n",
              "      <td>119.715997</td>\n",
              "      <td>154.857384</td>\n",
              "      <td>170.913376</td>\n",
              "      <td>206.684950</td>\n",
              "    </tr>\n",
              "  </tbody>\n",
              "</table>\n",
              "</div>"
            ],
            "text/plain": [
              "                  f0                                                 \\\n",
              "               count        mean        std         min         25%   \n",
              "age gender                                                            \n",
              "20s Female      82.0  198.042158  15.742888  167.012093  187.434224   \n",
              "    Male        79.0  119.056942  20.922270   75.803658  105.556898   \n",
              "    Non-binary  14.0  125.516416  27.000588   91.312616  107.196505   \n",
              "50s Female      54.0  199.595345  20.794155  164.531714  187.364081   \n",
              "    Male        60.0  117.028539  17.439486   65.722365  105.980267   \n",
              "    Non-binary  11.0  145.808069  41.649919   80.448053  119.715997   \n",
              "\n",
              "                                                    \n",
              "                       50%         75%         max  \n",
              "age gender                                          \n",
              "20s Female      199.025335  208.057627  234.302582  \n",
              "    Male        117.078656  134.012374  166.821085  \n",
              "    Non-binary  122.680159  133.401786  184.717860  \n",
              "50s Female      199.935098  210.235432  258.275386  \n",
              "    Male        115.538488  128.634737  153.608504  \n",
              "    Non-binary  154.857384  170.913376  206.684950  "
            ]
          },
          "execution_count": 8,
          "metadata": {},
          "output_type": "execute_result"
        }
      ],
      "source": [
        "data_all.groupby(['age', 'gender'])[['f0']].describe()"
      ]
    },
    {
      "cell_type": "markdown",
      "metadata": {
        "id": "TYi4TSrL1TF2"
      },
      "source": [
        "위의 표는 데이터에 대한 많은 정보를 담고 있지만, 내용을 한눈에 파악하기 어렵다.\n",
        "\n",
        "시각화를 통해 표의 내용을 더 이해하기 쉽게 표현하고(막대그래프, 상자그림), 표에서 알 수 없었던 새로운 정보를 추가해 보자(히스토그램).\n"
      ]
    },
    {
      "cell_type": "markdown",
      "metadata": {
        "id": "RsC8rcJWjmU6"
      },
      "source": [
        "## 1. 막대그래프(Bar plot): `seaborn.countplot()`\n",
        "\n",
        "\n",
        "`seaborn`(`sns`) 라이브러리에서 그래프를 그리는 방법은 `matplotlib`보다 간단하다.\n",
        "기본적으로 아래의 명령 한 줄로 그래프를 그릴 수 있다.\n",
        "\n",
        "> `sns.그림_종류(data, x, y, hue)`\n",
        "\n",
        "막대그래프의 경우 `sns.countplot()` 함수로 그리면 된다. 이 함수는 필수적 인자로 `data`와 `x`를 가진다. `data` 인자에는 데이터프레임의 변수명을 넣고, `x` 인자에는 칼럼 제목을 문자열로 넣어 준다.\n",
        "\n",
        "실험참여자들이 연령대별로 몇 명이 있는지 표현하는 막대그래프를 그려 보자.\n",
        "\n"
      ]
    },
    {
      "cell_type": "code",
      "execution_count": 9,
      "metadata": {
        "colab": {
          "base_uri": "https://localhost:8080/",
          "height": 302
        },
        "id": "RJwQ09SUyVJT",
        "outputId": "5c9de5df-1e79-49c9-ad38-cf4dd63a7f43"
      },
      "outputs": [
        {
          "data": {
            "text/plain": [
              "<AxesSubplot:xlabel='age', ylabel='count'>"
            ]
          },
          "execution_count": 9,
          "metadata": {},
          "output_type": "execute_result"
        },
        {
          "data": {
            "image/png": "[encoded data removed]",
            "text/plain": [
              "<Figure size 432x288 with 1 Axes>"
            ]
          },
          "metadata": {
            "needs_background": "light"
          },
          "output_type": "display_data"
        }
      ],
      "source": [
        "sns.set_theme() # 그림 테마 설정(안 해도 됨)\n",
        "sns.countplot(data=data_all, x=\"age\")"
      ]
    },
    {
      "cell_type": "markdown",
      "metadata": {
        "id": "n14oWhp935tV"
      },
      "source": [
        "방금 그린 막대그래프는 연령대에 대한 정보만 담고 있다.\n",
        "\n",
        "그런데 실험참여자에 대한 정보는 연령대뿐만 아니라 성별도 있다.\n",
        "\n",
        "두 가지 요인을 종합하기 위해서는 실험참여자들을 연령대 그룹으로 묶은 뒤 각 연령대 안에서 성별에 따른 인원 수를 세어 볼 수 있다.\n",
        "\n",
        "성별 정보를 추가하기 위해서는 `hue` 인자의 값으로 `'gender'`라는 칼럼 제목을 넣어 주면 된다."
      ]
    },
    {
      "cell_type": "code",
      "execution_count": 10,
      "metadata": {
        "colab": {
          "base_uri": "https://localhost:8080/",
          "height": 302
        },
        "id": "uC3O1wJAhdnr",
        "outputId": "bc6227c9-8c59-407d-fa2f-3bcc883a548b"
      },
      "outputs": [
        {
          "data": {
            "text/plain": [
              "<AxesSubplot:xlabel='age', ylabel='count'>"
            ]
          },
          "execution_count": 10,
          "metadata": {},
          "output_type": "execute_result"
        },
        {
          "data": {
            "image/png": "[encoded data removed]",
            "text/plain": [
              "<Figure size 432x288 with 1 Axes>"
            ]
          },
          "metadata": {
            "needs_background": "light"
          },
          "output_type": "display_data"
        }
      ],
      "source": [
        "sns.countplot(data=data_all, x='age', hue='gender')"
      ]
    },
    {
      "cell_type": "markdown",
      "metadata": {
        "id": "OnhZdL9xjtin"
      },
      "source": [
        "## 2. 히스토그램(histogram): `seaborn.histplot()`\n",
        "\n",
        "위에서는 설명변수로 발화자의 연령대와 성별의 분포를 시각화하였다.\n",
        "\n",
        "이제 반응변수인 기본주파수 값의 분포를 그림으로 살펴보자.\n",
        "\n",
        "기본주파수는 연속형 데이터에 속하므로, 이 경우는 히스토그램을 그린다.\n",
        "\n",
        "히스토그램을 통해 데이터가 어떤 범위의 값을 많이 가지는지를 알 수 있다.\n",
        "\n",
        "히스토그램을 그리는 함수는 `seaborn.histplot()`이다."
      ]
    },
    {
      "cell_type": "code",
      "execution_count": 11,
      "metadata": {
        "colab": {
          "base_uri": "https://localhost:8080/",
          "height": 303
        },
        "id": "3jD_PCRUVArd",
        "outputId": "f3a02e20-8890-46fc-c4cc-e4c6687f0dd9"
      },
      "outputs": [
        {
          "data": {
            "text/plain": [
              "<AxesSubplot:xlabel='f0', ylabel='Count'>"
            ]
          },
          "execution_count": 11,
          "metadata": {},
          "output_type": "execute_result"
        },
        {
          "data": {
            "image/png": "[encoded data removed]",
            "text/plain": [
              "<Figure size 432x288 with 1 Axes>"
            ]
          },
          "metadata": {
            "needs_background": "light"
          },
          "output_type": "display_data"
        }
      ],
      "source": [
        "sns.histplot(data=data_all, x='f0')"
      ]
    },
    {
      "cell_type": "markdown",
      "metadata": {
        "id": "yRrXiFVD6kwe"
      },
      "source": [
        "앞서 `pandas.DataFrame.describe()` 함수로 F0 값의 기술통계량을 구한 것을 떠올려 보자.\n",
        "\n"
      ]
    },
    {
      "cell_type": "code",
      "execution_count": 12,
      "metadata": {
        "colab": {
          "base_uri": "https://localhost:8080/",
          "height": 81
        },
        "id": "sOgOYUgB6ufB",
        "outputId": "6023c550-2cdd-42e4-db3b-bd29abe53967"
      },
      "outputs": [
        {
          "data": {
            "text/html": [
              "<div>\n",
              "<style scoped>\n",
              "    .dataframe tbody tr th:only-of-type {\n",
              "        vertical-align: middle;\n",
              "    }\n",
              "\n",
              "    .dataframe tbody tr th {\n",
              "        vertical-align: top;\n",
              "    }\n",
              "\n",
              "    .dataframe thead th {\n",
              "        text-align: right;\n",
              "    }\n",
              "</style>\n",
              "<table border=\"1\" class=\"dataframe\">\n",
              "  <thead>\n",
              "    <tr style=\"text-align: right;\">\n",
              "      <th></th>\n",
              "      <th>count</th>\n",
              "      <th>mean</th>\n",
              "      <th>std</th>\n",
              "      <th>min</th>\n",
              "      <th>25%</th>\n",
              "      <th>50%</th>\n",
              "      <th>75%</th>\n",
              "      <th>max</th>\n",
              "    </tr>\n",
              "  </thead>\n",
              "  <tbody>\n",
              "    <tr>\n",
              "      <th>f0</th>\n",
              "      <td>300.0</td>\n",
              "      <td>156.019783</td>\n",
              "      <td>44.140611</td>\n",
              "      <td>65.722365</td>\n",
              "      <td>116.326951</td>\n",
              "      <td>151.777664</td>\n",
              "      <td>197.472624</td>\n",
              "      <td>258.275386</td>\n",
              "    </tr>\n",
              "  </tbody>\n",
              "</table>\n",
              "</div>"
            ],
            "text/plain": [
              "    count        mean        std        min         25%         50%  \\\n",
              "f0  300.0  156.019783  44.140611  65.722365  116.326951  151.777664   \n",
              "\n",
              "           75%         max  \n",
              "f0  197.472624  258.275386  "
            ]
          },
          "execution_count": 12,
          "metadata": {},
          "output_type": "execute_result"
        }
      ],
      "source": [
        "data_all[['f0']].describe().transpose()"
      ]
    },
    {
      "cell_type": "markdown",
      "metadata": {
        "id": "Uj_QIR-f6zDx"
      },
      "source": [
        "데이터의 중심 경향성을 나타내는 통계치로 평균값이 대략 156, 중앙값이 대략 151이다.\n",
        "\n",
        "이 경우 F0 값들이 가운데인 150대에 몰려 있으리라고 예측하기 쉽다.\n",
        "\n",
        "그러나 위에서 그린 히스토그램을 살펴보면 오히려 150대에 해당하는 막대가 주변의 막대보다 짧다.\n",
        "\n",
        "히스토그램의 '봉우리'는 110 주변에서 한 개, 200 주변에서 한 개로 2개가 있다.\n",
        "\n",
        "이는 데이터 내부에 최소한 2개 집단이 존재하고 집단별로 F0 값이 다른 경향을 보인다는 것을 의미한다.\n",
        "\n",
        "이 추측을 확인하기 위해 F0 값들을 먼저 발화자의 연령대에 따라 두 집단으로 묶어서 각각의 히스토그램을 그려 볼 수 있다.\n",
        "\n",
        "`hue` 인자의 값으로 `'age'`를 넣어 주면 각 연령대의 데이터를 각기 다른 색깔로 표시해 준다."
      ]
    },
    {
      "cell_type": "code",
      "execution_count": 13,
      "metadata": {
        "colab": {
          "base_uri": "https://localhost:8080/",
          "height": 302
        },
        "id": "yXeB55yW7627",
        "outputId": "25e3b0cc-762e-41d5-e823-95b757b649ae"
      },
      "outputs": [
        {
          "data": {
            "text/plain": [
              "<AxesSubplot:xlabel='f0', ylabel='Count'>"
            ]
          },
          "execution_count": 13,
          "metadata": {},
          "output_type": "execute_result"
        },
        {
          "data": {
            "image/png": "[encoded data removed]",
            "text/plain": [
              "<Figure size 432x288 with 1 Axes>"
            ]
          },
          "metadata": {
            "needs_background": "light"
          },
          "output_type": "display_data"
        }
      ],
      "source": [
        "sns.histplot(data=data_all, x='f0', hue='age')"
      ]
    },
    {
      "cell_type": "markdown",
      "metadata": {
        "id": "-CfjlO378cv-"
      },
      "source": [
        "위에서 그린 새로운 히스토그램을 보면 20대와 50대 모두 여전히 두 개의 봉우리를 보인다.\n",
        "\n",
        "즉, 발화자가 속한 연령대로는 F0 값의 차이를 거의 설명하지 못한다.\n",
        "\n",
        "그러면 연령대가 아닌 성별로 집단을 나누어 보자. `hue` 인자의 값을 `'gender'`로 바꾸기만 하면 된다."
      ]
    },
    {
      "cell_type": "code",
      "execution_count": 14,
      "metadata": {
        "colab": {
          "base_uri": "https://localhost:8080/",
          "height": 168
        },
        "id": "j6b9Zq-7XoHX",
        "outputId": "a0db01d9-6ad8-495c-9e15-b1a79721118a"
      },
      "outputs": [
        {
          "data": {
            "text/plain": [
              "<AxesSubplot:xlabel='f0', ylabel='Count'>"
            ]
          },
          "execution_count": 14,
          "metadata": {},
          "output_type": "execute_result"
        },
        {
          "data": {
            "image/png": "[encoded data removed]",
            "text/plain": [
              "<Figure size 432x288 with 1 Axes>"
            ]
          },
          "metadata": {
            "needs_background": "light"
          },
          "output_type": "display_data"
        }
      ],
      "source": [
        "sns.histplot(data=data_all, x='f0', hue='gender')"
      ]
    },
    {
      "cell_type": "markdown",
      "metadata": {
        "id": "Ow3v3uuG9am_"
      },
      "source": [
        "일단 범례(legend)가 막대의 일부를 가리고 있으므로 데이터 전체를 볼 수 없다.\n",
        "\n",
        "이 경우 아래와 같이 `move_legend()` 함수를 사용하여 범례를 그래프 바깥으로 치울 수 있다."
      ]
    },
    {
      "cell_type": "code",
      "execution_count": 15,
      "metadata": {
        "colab": {
          "base_uri": "https://localhost:8080/",
          "height": 285
        },
        "id": "W_FhtYmmwyZU",
        "outputId": "fa74661d-e5f1-49b1-d974-fa83eaae6815"
      },
      "outputs": [
        {
          "data": {
            "image/png": "[encoded data removed]",
            "text/plain": [
              "<Figure size 432x288 with 1 Axes>"
            ]
          },
          "metadata": {
            "needs_background": "light"
          },
          "output_type": "display_data"
        }
      ],
      "source": [
        "ax = sns.histplot(data=data_all, x='f0', hue='gender')\n",
        "sns.move_legend(ax, 'upper left', bbox_to_anchor=(1,1))"
      ]
    },
    {
      "cell_type": "markdown",
      "metadata": {
        "id": "j6bNK8I39uP5"
      },
      "source": [
        "이번에는 남성의 F0 값과 여성의 F0 값이 서로 다른 분포를 보이는 것을 확인할 수 있다.\n",
        "\n",
        "110 전후의 봉우리는 남성 집단의 중심, 200 전후의 봉우리는 여성 집단의 중심에 해당했던 것이다.\n",
        "\n",
        "이는 아래의 기술통계량 표에서 여성이 평균값 198 및 중앙값 199, 남성이 평균값 118 및 중앙값 116를 가지는 것과도 일관된다."
      ]
    },
    {
      "cell_type": "code",
      "execution_count": 16,
      "metadata": {
        "colab": {
          "base_uri": "https://localhost:8080/",
          "height": 206
        },
        "id": "0OeQ_hWH-W4A",
        "outputId": "0fcf877f-3df0-49b4-8bcf-37596ef1556d"
      },
      "outputs": [
        {
          "data": {
            "text/html": [
              "<div>\n",
              "<style scoped>\n",
              "    .dataframe tbody tr th:only-of-type {\n",
              "        vertical-align: middle;\n",
              "    }\n",
              "\n",
              "    .dataframe tbody tr th {\n",
              "        vertical-align: top;\n",
              "    }\n",
              "\n",
              "    .dataframe thead tr th {\n",
              "        text-align: left;\n",
              "    }\n",
              "\n",
              "    .dataframe thead tr:last-of-type th {\n",
              "        text-align: right;\n",
              "    }\n",
              "</style>\n",
              "<table border=\"1\" class=\"dataframe\">\n",
              "  <thead>\n",
              "    <tr>\n",
              "      <th></th>\n",
              "      <th colspan=\"8\" halign=\"left\">f0</th>\n",
              "    </tr>\n",
              "    <tr>\n",
              "      <th></th>\n",
              "      <th>count</th>\n",
              "      <th>mean</th>\n",
              "      <th>std</th>\n",
              "      <th>min</th>\n",
              "      <th>25%</th>\n",
              "      <th>50%</th>\n",
              "      <th>75%</th>\n",
              "      <th>max</th>\n",
              "    </tr>\n",
              "    <tr>\n",
              "      <th>gender</th>\n",
              "      <th></th>\n",
              "      <th></th>\n",
              "      <th></th>\n",
              "      <th></th>\n",
              "      <th></th>\n",
              "      <th></th>\n",
              "      <th></th>\n",
              "      <th></th>\n",
              "    </tr>\n",
              "  </thead>\n",
              "  <tbody>\n",
              "    <tr>\n",
              "      <th>Female</th>\n",
              "      <td>136.0</td>\n",
              "      <td>198.658865</td>\n",
              "      <td>17.861712</td>\n",
              "      <td>164.531714</td>\n",
              "      <td>187.267597</td>\n",
              "      <td>199.226106</td>\n",
              "      <td>209.567807</td>\n",
              "      <td>258.275386</td>\n",
              "    </tr>\n",
              "    <tr>\n",
              "      <th>Male</th>\n",
              "      <td>139.0</td>\n",
              "      <td>118.181372</td>\n",
              "      <td>19.454171</td>\n",
              "      <td>65.722365</td>\n",
              "      <td>105.556898</td>\n",
              "      <td>116.493871</td>\n",
              "      <td>132.664359</td>\n",
              "      <td>166.821085</td>\n",
              "    </tr>\n",
              "    <tr>\n",
              "      <th>Non-binary</th>\n",
              "      <td>25.0</td>\n",
              "      <td>134.444743</td>\n",
              "      <td>34.976753</td>\n",
              "      <td>80.448053</td>\n",
              "      <td>109.860448</td>\n",
              "      <td>129.571545</td>\n",
              "      <td>157.783923</td>\n",
              "      <td>206.684950</td>\n",
              "    </tr>\n",
              "  </tbody>\n",
              "</table>\n",
              "</div>"
            ],
            "text/plain": [
              "               f0                                                             \\\n",
              "            count        mean        std         min         25%         50%   \n",
              "gender                                                                         \n",
              "Female      136.0  198.658865  17.861712  164.531714  187.267597  199.226106   \n",
              "Male        139.0  118.181372  19.454171   65.722365  105.556898  116.493871   \n",
              "Non-binary   25.0  134.444743  34.976753   80.448053  109.860448  129.571545   \n",
              "\n",
              "                                    \n",
              "                   75%         max  \n",
              "gender                              \n",
              "Female      209.567807  258.275386  \n",
              "Male        132.664359  166.821085  \n",
              "Non-binary  157.783923  206.684950  "
            ]
          },
          "execution_count": 16,
          "metadata": {},
          "output_type": "execute_result"
        }
      ],
      "source": [
        "data_all.groupby(['gender'])[['f0']].describe()"
      ]
    },
    {
      "cell_type": "markdown",
      "metadata": {
        "id": "7qKHhtbvjx-s"
      },
      "source": [
        "## 3. 상자그림(Box plot): `seaborn.boxplot()`\n",
        "\n"
      ]
    },
    {
      "cell_type": "code",
      "execution_count": 17,
      "metadata": {
        "colab": {
          "base_uri": "https://localhost:8080/",
          "height": 285
        },
        "id": "s_8zuwWQXPW_",
        "outputId": "aa43e1ab-73e9-4d2d-9f17-fb1d51e37bad"
      },
      "outputs": [
        {
          "data": {
            "image/png": "[encoded data removed]",
            "text/plain": [
              "<Figure size 432x288 with 1 Axes>"
            ]
          },
          "metadata": {
            "needs_background": "light"
          },
          "output_type": "display_data"
        }
      ],
      "source": [
        "with sns.color_palette(\"hls\"):\n",
        "  sns.boxplot(data=data_all, y='f0', x='age')"
      ]
    },
    {
      "cell_type": "code",
      "execution_count": 18,
      "metadata": {
        "colab": {
          "base_uri": "https://localhost:8080/",
          "height": 285
        },
        "id": "DPm_y1d61YwO",
        "outputId": "d76493bc-cd8e-43fe-c249-4807b6f578ba"
      },
      "outputs": [
        {
          "data": {
            "image/png": "[encoded data removed]",
            "text/plain": [
              "<Figure size 216x288 with 1 Axes>"
            ]
          },
          "metadata": {
            "needs_background": "light"
          },
          "output_type": "display_data"
        }
      ],
      "source": [
        "import matplotlib.pyplot as plt\n",
        "f, ax = plt.subplots(figsize=(3,4))\n",
        "with sns.color_palette(\"hls\"):\n",
        "  sns.boxplot(data=data_all, y='f0', x='age')"
      ]
    },
    {
      "cell_type": "code",
      "execution_count": 19,
      "metadata": {
        "colab": {
          "base_uri": "https://localhost:8080/",
          "height": 298
        },
        "id": "sg1LqSX8fupQ",
        "outputId": "1042d64b-c2ae-47eb-9160-98932f723a0d"
      },
      "outputs": [
        {
          "data": {
            "image/png": "[encoded data removed]",
            "text/plain": [
              "<Figure size 432x288 with 1 Axes>"
            ]
          },
          "metadata": {
            "needs_background": "light"
          },
          "output_type": "display_data"
        }
      ],
      "source": [
        "with sns.plotting_context('notebook', font_scale=1.5), sns.color_palette(\"hls\"):\n",
        "  sns.boxplot(data=data_all, y='f0', x='age')"
      ]
    },
    {
      "cell_type": "code",
      "execution_count": 20,
      "metadata": {
        "colab": {
          "base_uri": "https://localhost:8080/",
          "height": 302
        },
        "id": "MlaIgwD7aET9",
        "outputId": "32d9ba0b-7e25-46f1-bc71-529eb2ce6909"
      },
      "outputs": [
        {
          "data": {
            "text/plain": [
              "<AxesSubplot:xlabel='gender', ylabel='f0'>"
            ]
          },
          "execution_count": 20,
          "metadata": {},
          "output_type": "execute_result"
        },
        {
          "data": {
            "image/png": "[encoded data removed]",
            "text/plain": [
              "<Figure size 432x288 with 1 Axes>"
            ]
          },
          "metadata": {
            "needs_background": "light"
          },
          "output_type": "display_data"
        }
      ],
      "source": [
        "sns.boxplot(data=data_all, y='f0', x='gender')"
      ]
    },
    {
      "cell_type": "code",
      "execution_count": 21,
      "metadata": {
        "colab": {
          "base_uri": "https://localhost:8080/",
          "height": 356
        },
        "id": "IVPaXHyM1WON",
        "outputId": "61b6896b-d6fb-4864-aa71-818d4a13b3ee"
      },
      "outputs": [
        {
          "data": {
            "text/plain": [
              "<AxesSubplot:xlabel='age', ylabel='f0'>"
            ]
          },
          "execution_count": 21,
          "metadata": {},
          "output_type": "execute_result"
        },
        {
          "data": {
            "image/png": "[encoded data removed]",
            "text/plain": [
              "<Figure size 432x360 with 1 Axes>"
            ]
          },
          "metadata": {
            "needs_background": "light"
          },
          "output_type": "display_data"
        }
      ],
      "source": [
        "f, ax = plt.subplots(figsize=(6,5))\n",
        "sns.boxplot(data=data_all, y='f0', x='age', hue='gender')"
      ]
    },
    {
      "cell_type": "markdown",
      "metadata": {
        "id": "WRWpfzvJka7S"
      },
      "source": [
        "**!!연속형 데이터를 막대그래프로 표현하면 안 된다!!**"
      ]
    },
    {
      "cell_type": "code",
      "execution_count": 22,
      "metadata": {
        "colab": {
          "base_uri": "https://localhost:8080/",
          "height": 302
        },
        "id": "DYi2hiyJgx2o",
        "outputId": "4a4c3411-7560-4ffe-b368-ba11817a0768"
      },
      "outputs": [
        {
          "data": {
            "text/plain": [
              "<AxesSubplot:xlabel='age', ylabel='f0'>"
            ]
          },
          "execution_count": 22,
          "metadata": {},
          "output_type": "execute_result"
        },
        {
          "data": {
            "image/png": "[encoded data removed]",
            "text/plain": [
              "<Figure size 432x288 with 1 Axes>"
            ]
          },
          "metadata": {
            "needs_background": "light"
          },
          "output_type": "display_data"
        }
      ],
      "source": [
        "sns.barplot(data=data_all, y='f0', x='age', hue='gender') # 하지 말 것!"
      ]
    },
    {
      "cell_type": "markdown",
      "metadata": {
        "id": "WHwkzem2j3-1"
      },
      "source": [
        "## 3.1. 상호작용그림(Interaction plot)"
      ]
    },
    {
      "cell_type": "code",
      "execution_count": 23,
      "metadata": {
        "colab": {
          "base_uri": "https://localhost:8080/",
          "height": 302
        },
        "id": "v8zZdYhbS7UT",
        "outputId": "749eaaf6-385b-4c34-cbd7-3b483023c18f"
      },
      "outputs": [
        {
          "data": {
            "text/plain": [
              "<AxesSubplot:xlabel='age', ylabel='f0'>"
            ]
          },
          "execution_count": 23,
          "metadata": {},
          "output_type": "execute_result"
        },
        {
          "data": {
            "image/png": "[encoded data removed]",
            "text/plain": [
              "<Figure size 432x288 with 1 Axes>"
            ]
          },
          "metadata": {
            "needs_background": "light"
          },
          "output_type": "display_data"
        }
      ],
      "source": [
        "sns.pointplot(data=data_all, y='f0', x='age', hue='gender')"
      ]
    },
    {
      "cell_type": "code",
      "execution_count": 24,
      "metadata": {
        "colab": {
          "base_uri": "https://localhost:8080/",
          "height": 302
        },
        "id": "4JU2suhnlwSB",
        "outputId": "b7858417-bbbf-429f-d4cb-0d80e2234a01"
      },
      "outputs": [
        {
          "data": {
            "text/plain": [
              "<AxesSubplot:xlabel='age', ylabel='f0'>"
            ]
          },
          "execution_count": 24,
          "metadata": {},
          "output_type": "execute_result"
        },
        {
          "data": {
            "image/png": "[encoded data removed]",
            "text/plain": [
              "<Figure size 432x288 with 1 Axes>"
            ]
          },
          "metadata": {
            "needs_background": "light"
          },
          "output_type": "display_data"
        }
      ],
      "source": [
        "sns.pointplot(data=data_all, y='f0', x='age', hue='gender', dodge=True)"
      ]
    },
    {
      "cell_type": "markdown",
      "metadata": {
        "id": "020fo4DfkHex"
      },
      "source": [
        "## 4. 산점도(Scatter plot)"
      ]
    },
    {
      "cell_type": "code",
      "execution_count": 25,
      "metadata": {
        "colab": {
          "base_uri": "https://localhost:8080/",
          "height": 455
        },
        "id": "T3qv2_JFVqX9",
        "outputId": "8c787094-6c1a-4b10-b35a-12c56b9c0fa7"
      },
      "outputs": [
        {
          "data": {
            "text/html": [
              "<div>\n",
              "<style scoped>\n",
              "    .dataframe tbody tr th:only-of-type {\n",
              "        vertical-align: middle;\n",
              "    }\n",
              "\n",
              "    .dataframe tbody tr th {\n",
              "        vertical-align: top;\n",
              "    }\n",
              "\n",
              "    .dataframe thead th {\n",
              "        text-align: right;\n",
              "    }\n",
              "</style>\n",
              "<table border=\"1\" class=\"dataframe\">\n",
              "  <thead>\n",
              "    <tr style=\"text-align: right;\">\n",
              "      <th></th>\n",
              "      <th>age</th>\n",
              "      <th>gender</th>\n",
              "      <th>f0</th>\n",
              "      <th>vot</th>\n",
              "      <th>class</th>\n",
              "    </tr>\n",
              "    <tr>\n",
              "      <th>sid</th>\n",
              "      <th></th>\n",
              "      <th></th>\n",
              "      <th></th>\n",
              "      <th></th>\n",
              "      <th></th>\n",
              "    </tr>\n",
              "  </thead>\n",
              "  <tbody>\n",
              "    <tr>\n",
              "      <th>S001</th>\n",
              "      <td>20s</td>\n",
              "      <td>Female</td>\n",
              "      <td>202.851444</td>\n",
              "      <td>14.349567</td>\n",
              "      <td>Aspirated</td>\n",
              "    </tr>\n",
              "    <tr>\n",
              "      <th>S002</th>\n",
              "      <td>20s</td>\n",
              "      <td>Female</td>\n",
              "      <td>229.684722</td>\n",
              "      <td>103.942317</td>\n",
              "      <td>Fortis</td>\n",
              "    </tr>\n",
              "    <tr>\n",
              "      <th>S003</th>\n",
              "      <td>20s</td>\n",
              "      <td>Female</td>\n",
              "      <td>203.820893</td>\n",
              "      <td>30.967251</td>\n",
              "      <td>Aspirated</td>\n",
              "    </tr>\n",
              "    <tr>\n",
              "      <th>S004</th>\n",
              "      <td>20s</td>\n",
              "      <td>Female</td>\n",
              "      <td>232.728176</td>\n",
              "      <td>106.832763</td>\n",
              "      <td>Fortis</td>\n",
              "    </tr>\n",
              "    <tr>\n",
              "      <th>S005</th>\n",
              "      <td>20s</td>\n",
              "      <td>Female</td>\n",
              "      <td>192.480203</td>\n",
              "      <td>42.837404</td>\n",
              "      <td>Aspirated</td>\n",
              "    </tr>\n",
              "    <tr>\n",
              "      <th>...</th>\n",
              "      <td>...</td>\n",
              "      <td>...</td>\n",
              "      <td>...</td>\n",
              "      <td>...</td>\n",
              "      <td>...</td>\n",
              "    </tr>\n",
              "    <tr>\n",
              "      <th>S132</th>\n",
              "      <td>50s</td>\n",
              "      <td>Female</td>\n",
              "      <td>177.664664</td>\n",
              "      <td>71.274168</td>\n",
              "      <td>Lenis</td>\n",
              "    </tr>\n",
              "    <tr>\n",
              "      <th>S133</th>\n",
              "      <td>50s</td>\n",
              "      <td>Female</td>\n",
              "      <td>173.585210</td>\n",
              "      <td>72.597707</td>\n",
              "      <td>Lenis</td>\n",
              "    </tr>\n",
              "    <tr>\n",
              "      <th>S134</th>\n",
              "      <td>50s</td>\n",
              "      <td>Female</td>\n",
              "      <td>200.559017</td>\n",
              "      <td>26.812080</td>\n",
              "      <td>Aspirated</td>\n",
              "    </tr>\n",
              "    <tr>\n",
              "      <th>S135</th>\n",
              "      <td>50s</td>\n",
              "      <td>Female</td>\n",
              "      <td>198.201199</td>\n",
              "      <td>38.420159</td>\n",
              "      <td>Aspirated</td>\n",
              "    </tr>\n",
              "    <tr>\n",
              "      <th>S136</th>\n",
              "      <td>50s</td>\n",
              "      <td>Female</td>\n",
              "      <td>172.288192</td>\n",
              "      <td>64.669209</td>\n",
              "      <td>Lenis</td>\n",
              "    </tr>\n",
              "  </tbody>\n",
              "</table>\n",
              "<p>136 rows × 5 columns</p>\n",
              "</div>"
            ],
            "text/plain": [
              "      age  gender          f0         vot      class\n",
              "sid                                                 \n",
              "S001  20s  Female  202.851444   14.349567  Aspirated\n",
              "S002  20s  Female  229.684722  103.942317     Fortis\n",
              "S003  20s  Female  203.820893   30.967251  Aspirated\n",
              "S004  20s  Female  232.728176  106.832763     Fortis\n",
              "S005  20s  Female  192.480203   42.837404  Aspirated\n",
              "...   ...     ...         ...         ...        ...\n",
              "S132  50s  Female  177.664664   71.274168      Lenis\n",
              "S133  50s  Female  173.585210   72.597707      Lenis\n",
              "S134  50s  Female  200.559017   26.812080  Aspirated\n",
              "S135  50s  Female  198.201199   38.420159  Aspirated\n",
              "S136  50s  Female  172.288192   64.669209      Lenis\n",
              "\n",
              "[136 rows x 5 columns]"
            ]
          },
          "execution_count": 25,
          "metadata": {},
          "output_type": "execute_result"
        }
      ],
      "source": [
        "data_women = pd.read_csv('../data/vowel/women-f0-vot.csv', index_col='sid')\n",
        "data_women"
      ]
    },
    {
      "cell_type": "code",
      "execution_count": 26,
      "metadata": {
        "colab": {
          "base_uri": "https://localhost:8080/",
          "height": 285
        },
        "id": "sijFcAmMgcgT",
        "outputId": "00f7c6b5-e033-4f19-a8d1-715b13c42fa4"
      },
      "outputs": [
        {
          "data": {
            "image/png": "[encoded data removed]",
            "text/plain": [
              "<Figure size 432x288 with 1 Axes>"
            ]
          },
          "metadata": {
            "needs_background": "light"
          },
          "output_type": "display_data"
        }
      ],
      "source": [
        "with sns.color_palette(\"husl\"):\n",
        "  sns.scatterplot(data=data_women, x='f0', y='vot', hue='class')"
      ]
    },
    {
      "cell_type": "code",
      "execution_count": 27,
      "metadata": {
        "colab": {
          "base_uri": "https://localhost:8080/",
          "height": 302
        },
        "id": "zDdg09XDYapA",
        "outputId": "9ae23156-162e-46a1-907b-0b6331ea9af7"
      },
      "outputs": [
        {
          "data": {
            "text/plain": [
              "<AxesSubplot:xlabel='f0', ylabel='vot'>"
            ]
          },
          "execution_count": 27,
          "metadata": {},
          "output_type": "execute_result"
        },
        {
          "data": {
            "image/png": "[encoded data removed]",
            "text/plain": [
              "<Figure size 432x288 with 1 Axes>"
            ]
          },
          "metadata": {
            "needs_background": "light"
          },
          "output_type": "display_data"
        }
      ],
      "source": [
        "sns.scatterplot(data=data_women, x='f0', y='vot', style='class')"
      ]
    },
    {
      "cell_type": "code",
      "execution_count": 28,
      "metadata": {
        "colab": {
          "base_uri": "https://localhost:8080/",
          "height": 285
        },
        "id": "EpVJv2nkm9j3",
        "outputId": "3956b228-273c-4416-a451-27b5849246a2"
      },
      "outputs": [
        {
          "data": {
            "image/png": "[encoded data removed]",
            "text/plain": [
              "<Figure size 432x288 with 1 Axes>"
            ]
          },
          "metadata": {
            "needs_background": "light"
          },
          "output_type": "display_data"
        }
      ],
      "source": [
        "with sns.color_palette(\"husl\"):\n",
        "  sns.scatterplot(data=data_women, x='f0', y='vot', hue='class', style='class')"
      ]
    },
    {
      "cell_type": "code",
      "execution_count": 29,
      "metadata": {
        "colab": {
          "base_uri": "https://localhost:8080/",
          "height": 285
        },
        "id": "q1TzYzVPmTZI",
        "outputId": "764354a8-469d-43a9-9132-408515fda319"
      },
      "outputs": [
        {
          "data": {
            "image/png": "[encoded data removed]",
            "text/plain": [
              "<Figure size 432x288 with 1 Axes>"
            ]
          },
          "metadata": {},
          "output_type": "display_data"
        }
      ],
      "source": [
        "with sns.axes_style(\"whitegrid\"):\n",
        "  sns.scatterplot(data=data_women, x='f0', y='vot', style='class', color='black')"
      ]
    }
  ],
  "metadata": {
    "colab": {
      "provenance": []
    },
    "kernelspec": {
      "display_name": "Python 3",
      "name": "python3"
    },
    "language_info": {
      "codemirror_mode": {
        "name": "ipython",
        "version": 3
      },
      "file_extension": ".py",
      "mimetype": "text/x-python",
      "name": "python",
      "nbconvert_exporter": "python",
      "pygments_lexer": "ipython3",
      "version": "3.7.0"
    }
  },
  "nbformat": 4,
  "nbformat_minor": 0
}
