{
 "cells": [
  {
   "cell_type": "markdown",
   "metadata": {},
   "source": [
    "# 5강 (2023-09-20) 기술통계량"
   ]
  },
  {
   "cell_type": "markdown",
   "metadata": {},
   "source": [
    "# 1. 중심 경향성\n",
    "\n",
    "+ 평균값(mean)\n",
    "+ 중앙값(median)\n",
    "\n",
    "$$x = (x_1, x_2, \\cdots, x_n)$$\n",
    "\n",
    "$$x\\text{의 평균값: }\\frac{\\sum_{i}^{n} x_i}{n}$$"
   ]
  },
  {
   "cell_type": "code",
   "execution_count": 1,
   "metadata": {},
   "outputs": [],
   "source": [
    "def mean(x):\n",
    "    return \n",
    "\n",
    "def median(x):\n",
    "    return"
   ]
  },
  {
   "cell_type": "markdown",
   "metadata": {},
   "source": [
    "중앙값은 값들을 크기 순서대로 정렬했을 때 한가운데 있는 값이다.\n",
    "\n",
    "예를 들어 5개의 값의 경우 3번째 값이 중앙값이다."
   ]
  },
  {
   "cell_type": "code",
   "execution_count": 2,
   "metadata": {},
   "outputs": [
    {
     "name": "stdout",
     "output_type": "stream",
     "text": [
      "mean of x: 3.0\n",
      "median of x: 3\n"
     ]
    }
   ],
   "source": [
    "x = [1, 2, 3, 4, 5]\n",
    "print('mean of x:', mean(x))\n",
    "print('median of x:', median(x))"
   ]
  },
  {
   "cell_type": "markdown",
   "metadata": {},
   "source": [
    "값의 개수가 짝수인 경우, 중앙값은 중앙에서 가장 가까운 두 값의 평균으로 정의된다.\n",
    "\n",
    "예를 들어 6개의 값의 경우 3번째와 4번째 값의 평균이 중앙값이다."
   ]
  },
  {
   "cell_type": "code",
   "execution_count": 3,
   "metadata": {},
   "outputs": [
    {
     "name": "stdout",
     "output_type": "stream",
     "text": [
      "mean of x: 3.5\n",
      "median of x: 3.5\n"
     ]
    }
   ],
   "source": [
    "x = [1, 2, 3, 4, 5, 6]\n",
    "print('mean of x:', mean(x))\n",
    "print('median of x:', median(x))"
   ]
  },
  {
   "cell_type": "markdown",
   "metadata": {},
   "source": [
    "평균값은 이상치에 민감하지만, 중앙값은 이상치의 영향에 있어 상대적으로 강건하다.\n",
    "\n",
    "예를 들어 [1, 2, 3, 4, 5]의 평균값은 3이고 [1, 2, 3, 4, 500]의 평균값은 102로 차이가 매우 크지만, 중앙값의 경우 두 데이터셋 모두 3이다."
   ]
  },
  {
   "cell_type": "code",
   "execution_count": 4,
   "metadata": {},
   "outputs": [
    {
     "name": "stdout",
     "output_type": "stream",
     "text": [
      "mean of x: 102.0\n",
      "median of x: 3\n"
     ]
    }
   ],
   "source": [
    "x = [1, 2, 3, 4, 500]\n",
    "print('mean of x:', mean(x))\n",
    "print('median of x:', median(x))"
   ]
  },
  {
   "cell_type": "markdown",
   "metadata": {},
   "source": [
    "## 2. 산포도(퍼짐 경향성)\n",
    "\n",
    "+ 편차(deviation)\n",
    "+ 표준편차(standard deviation)\n",
    "\n",
    "$$x = (x_1, x_2, \\cdots, x_n),~~~~~\\bar{x} = \\frac{\\sum_{i=1}^{n} x_i}{n}$$\n",
    "\n",
    "$$x_i\\text{의 편차: }x_i - \\bar{x}$$\n",
    "\n",
    "$$x\\text{의 표준편차: } \\sigma(x) = \\sqrt{\\frac{\\sum_{i=1}^{n} (x_i - \\bar{x})^2}{n}}$$"
   ]
  },
  {
   "cell_type": "code",
   "execution_count": 5,
   "metadata": {},
   "outputs": [],
   "source": [
    "def dev(x):\n",
    "  return\n",
    "\n",
    "def std(x):\n",
    "  return"
   ]
  },
  {
   "cell_type": "markdown",
   "metadata": {},
   "source": [
    "편차의 합은 정의상 항상 0이다.\n",
    "\n",
    "$$\\sum_{i=1}^n(x_i - \\bar{x}) = \\sum_{i=1}^n {x_i} - n\\bar{x} = n\\left(\\frac{1}{n}\\sum_{i=1}^n {x_i} - \\bar{x}\\right) = n\\left(\\bar{x}-\\bar{x}\\right)=0$$"
   ]
  },
  {
   "cell_type": "code",
   "execution_count": 6,
   "metadata": {},
   "outputs": [
    {
     "name": "stdout",
     "output_type": "stream",
     "text": [
      "sum of deviations of x: 0.0\n",
      "standard deviation of x: 1.4142135623730951\n"
     ]
    }
   ],
   "source": [
    "x = [-2, -1, 0, 1, 2]\n",
    "print('sum of deviations of x:', sum(dev(x)))\n",
    "print('standard deviation of x:', std(x))"
   ]
  },
  {
   "cell_type": "markdown",
   "metadata": {},
   "source": [
    "## 3. 두 변수 사이의 관계\n",
    "\n",
    "+ 공분산(covariance)\n",
    "\n",
    "$$x = (x_1, x_2, \\cdots, x_n),~~~~~\\bar{x} = \\frac{\\sum_{i=1}^{n} x_i}{n}$$\n",
    "$$y = (y_1, y_2, \\cdots, y_n),~~~~~\\bar{y} = \\frac{\\sum_{i=1}^{n} y_i}{n}$$\n",
    "$$COV(x,y) = \\frac{\\sum_{i=1}^{n} (x_i-\\bar{x})(y_i-\\bar{y})}{n}$$"
   ]
  },
  {
   "cell_type": "code",
   "execution_count": 7,
   "metadata": {},
   "outputs": [],
   "source": [
    "def cov(x, y):\n",
    "  return"
   ]
  },
  {
   "cell_type": "code",
   "execution_count": 8,
   "metadata": {},
   "outputs": [
    {
     "name": "stdout",
     "output_type": "stream",
     "text": [
      "covariance between x and x: 2.0\n",
      "covariance between x and y: -2.0\n"
     ]
    }
   ],
   "source": [
    "x = [-2, -1, 0, 1, 2]\n",
    "y = [2, 1, 0, -1, -2]\n",
    "\n",
    "print('covariance between x and x:', cov(x, x))\n",
    "print('covariance between x and y:', cov(x, y))"
   ]
  },
  {
   "cell_type": "markdown",
   "metadata": {},
   "source": [
    "+ 상관관계(correlation)\n",
    "\n",
    "$$\\rho(x,y) = \\frac{COV(x,y)}{\\sigma(x)\\sigma(y)}$$"
   ]
  },
  {
   "cell_type": "code",
   "execution_count": 9,
   "metadata": {},
   "outputs": [],
   "source": [
    "def cor(x, y):\n",
    "  return"
   ]
  },
  {
   "cell_type": "markdown",
   "metadata": {},
   "source": [
    "자기 자신과의 상관관계는 1, 반대 방향과의 상관관계는 -1이다."
   ]
  },
  {
   "cell_type": "code",
   "execution_count": 10,
   "metadata": {},
   "outputs": [
    {
     "name": "stdout",
     "output_type": "stream",
     "text": [
      "correlation between x and x: 0.9999999999999998\n",
      "correlation between x and y: -0.9999999999999998\n"
     ]
    }
   ],
   "source": [
    "x = [-2, -1, 0, 1, 2]\n",
    "y = [2, 1, 0, -1, -2]\n",
    "\n",
    "print('correlation between x and x:', cor(x, x))\n",
    "print('correlation between x and y:', cor(x, y))"
   ]
  },
  {
   "cell_type": "markdown",
   "metadata": {},
   "source": [
    "상관관계의 값이 언제나 연관성을 함의하지는 않는 데 유의하자."
   ]
  },
  {
   "cell_type": "code",
   "execution_count": 11,
   "metadata": {},
   "outputs": [
    {
     "name": "stdout",
     "output_type": "stream",
     "text": [
      "correlation between x and y1: 0.0\n",
      "correlation between x and y2: 0.9999999999999998\n"
     ]
    }
   ],
   "source": [
    "x = [-2, -1, 0, 1, 2]\n",
    "y1 = [2, 1, 0, 1, 2]\n",
    "y2 = [99.98, 99.99, 100.00, 100.01, 100.02]\n",
    "\n",
    "print('correlation between x and y1:', cor(x, y1))\n",
    "print('correlation between x and y2:', cor(x, y2))"
   ]
  }
 ],
 "metadata": {
  "kernelspec": {
   "display_name": "Python 3",
   "language": "python",
   "name": "python3"
  },
  "language_info": {
   "codemirror_mode": {
    "name": "ipython",
    "version": 3
   },
   "file_extension": ".py",
   "mimetype": "text/x-python",
   "name": "python",
   "nbconvert_exporter": "python",
   "pygments_lexer": "ipython3",
   "version": "3.8.9"
  },
  "orig_nbformat": 4
 },
 "nbformat": 4,
 "nbformat_minor": 2
}
