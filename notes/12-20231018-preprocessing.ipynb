{
 "cells": [
  {
   "cell_type": "code",
   "execution_count": 7,
   "metadata": {},
   "outputs": [],
   "source": [
    "# zip 파일을 읽기 위한 라이브러리 가져오기\n",
    "import zipfile\n",
    "\n",
    "# json 파일을 읽기 위한 라이브러리 가져오기\n",
    "import json\n",
    "\n",
    "#\n",
    "from tqdm import tqdm\n",
    "import pickle\n",
    "import pandas as pd"
   ]
  },
  {
   "cell_type": "code",
   "execution_count": 4,
   "metadata": {},
   "outputs": [
    {
     "name": "stderr",
     "output_type": "stream",
     "text": [
      "100%|██████████| 47424/47424 [01:35<00:00, 496.31it/s] \n"
     ]
    }
   ],
   "source": [
    "zipfilename = \"../NIKL_OM_2021_v1.1.zip\"\n",
    "\n",
    "# 발화 리스트 초기화\n",
    "utterances_list = [] \n",
    "\n",
    "# 발화자 리스트 초기화\n",
    "speakers_list = []\n",
    "\n",
    "# 압축된 zip 파일 읽기\n",
    "with zipfile.ZipFile(zipfilename) as z:\n",
    "  # 말뭉치 압축 파일(z) 내에 들어 있는 파일을 하나씩 처리하기\n",
    "  for filename in tqdm(z.namelist()):\n",
    "    # 파일이 JSON 이외의 형식인 경우 읽지 않고 넘어가기\n",
    "    if not filename.endswith(('.json', '.JSON')):\n",
    "      continue\n",
    "\n",
    "    # JSON 파일을 열어서 그 내용을 data라는 이름으로 저장하기\n",
    "    with z.open(filename) as f:  \n",
    "      data = json.loads(f.read().decode(\"utf-8\"))  \n",
    "\n",
    "    # 현재 읽고 있는 파일에 포함된 문서를 하나씩 처리하기\n",
    "    for document in data['document']:\n",
    "      # 발화 목록 업데이트:\n",
    "      # 문서의 발화 목록을 기존 목록에 더하기\n",
    "      utterances_list.extend(document['utterance'])\n",
    "\n",
    "      # 발화자 목록 업데이트:\n",
    "      # 문서의 메타 정보에서 발화자 값을 하나씩 처리하기\n",
    "      for speaker in document['metadata']['speaker']:\n",
    "        # 현재의 발화자(speaker)가 기존 목록(speakers_list)에 있는 경우 그냥 넘어가기\n",
    "        if speaker in speakers_list:\n",
    "          continue\n",
    "        # 그렇지 않은 경우 현재의 발화자를 기존 목록에 추가하기\n",
    "        else:\n",
    "          speakers_list.append(speaker)"
   ]
  },
  {
   "cell_type": "code",
   "execution_count": 12,
   "metadata": {},
   "outputs": [],
   "source": [
    "df_utterances = pd.DataFrame(utterances_list).to_csv('../NIKL_OM_utterances.csv')\n",
    "df_speakers = pd.DataFrame(speakers_list).to_csv('../NIKL_OM_speakers.csv')"
   ]
  },
  {
   "cell_type": "code",
   "execution_count": 14,
   "metadata": {},
   "outputs": [],
   "source": [
    "!tar -czf ../NIKL_OM_utterances.csv.tar.gz ../NIKL_OM_utterances.csv\n",
    "!tar -czf ../NIKL_OM_speakers.csv.tar.gz ../NIKL_OM_speakers.csv"
   ]
  },
  {
   "cell_type": "code",
   "execution_count": 15,
   "metadata": {},
   "outputs": [
    {
     "name": "stdout",
     "output_type": "stream",
     "text": [
      "rm: ../NIKL_OM_2021_v1.1.zip: No such file or directory\n"
     ]
    }
   ],
   "source": [
    "!rm ../NIKL_OM_2021_v1.1.zip\n",
    "!rm ../NIKL_OM_speakers.csv\n",
    "!rm ../NIKL_OM_utterances.csv"
   ]
  }
 ],
 "metadata": {
  "kernelspec": {
   "display_name": "Python 3",
   "language": "python",
   "name": "python3"
  },
  "language_info": {
   "codemirror_mode": {
    "name": "ipython",
    "version": 3
   },
   "file_extension": ".py",
   "mimetype": "text/x-python",
   "name": "python",
   "nbconvert_exporter": "python",
   "pygments_lexer": "ipython3",
   "version": "3.8.9"
  }
 },
 "nbformat": 4,
 "nbformat_minor": 2
}
